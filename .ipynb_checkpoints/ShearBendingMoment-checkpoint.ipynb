{
 "cells": [
  {
   "cell_type": "code",
   "execution_count": 15,
   "id": "fc468d64",
   "metadata": {},
   "outputs": [],
   "source": [
    "import math\n",
    "import numpy as np"
   ]
  },
  {
   "cell_type": "code",
   "execution_count": 16,
   "id": "e9af9736",
   "metadata": {},
   "outputs": [],
   "source": [
    "#Initializing containters, will overwrite below\n",
    "pointLoads = np.array([[]]) \n"
   ]
  },
  {
   "cell_type": "code",
   "execution_count": 17,
   "id": "130a0e2d",
   "metadata": {},
   "outputs": [],
   "source": [
    "#input span and force data \n",
    "span = 17 #span of the beam\n",
    "A = 3 #Distance to left support\n",
    "B = 13 #Distance to rigth support\n",
    "\n",
    "#force data,  negative forces act downwards \n",
    "pointLoads = np.array([[6, 0, -90]])"
   ]
  },
  {
   "cell_type": "code",
   "execution_count": 18,
   "id": "691afac2",
   "metadata": {},
   "outputs": [],
   "source": [
    "#defaults and initialisations\n",
    "divs = 10000 #divide the spa into this number of datapoints\n",
    "delta = span/divs #distance between data points\n",
    "X = np.arange(0, span+delta, delta) #range of x coord.\n",
    "nPL = len(pointLoads[0]) #test for pointloads\n",
    "\n",
    "reactions = np.array([0.0, 0, 0]) #reactie krachten Va, Ha, Vb- defined as an array of floats\n",
    "shearForce = np.empty([0, len(X)]) #Dwarskrachten bij elke datapunt\n",
    "bendingMoment = np.empty([0, len(X)]) #Bending moment at each data point\n"
   ]
  },
  {
   "cell_type": "code",
   "execution_count": 19,
   "id": "fdd1075d",
   "metadata": {},
   "outputs": [],
   "source": [
    "#Define a function to calculate reactions due to pointloads\n",
    "def reactions_PL(n):\n",
    "    xp = pointLoads[n, 0] #Location of pointload\n",
    "    fx = pointLoads[n, 1] # Point Load horizontal component magnitude\n",
    "    fy = pointLoads[n, 2] #Point Load vertical component magnitude\n",
    "    \n",
    "    la_p = A-xp\n",
    "    mp = fy*la_p\n",
    "    la_vb = B-A\n",
    "    \n",
    "    Vb = mp/la_vb\n",
    "    Va= -fy-Vb\n",
    "    Ha = -fx\n",
    "    \n",
    "    return Va, Vb, Ha"
   ]
  },
  {
   "cell_type": "code",
   "execution_count": null,
   "id": "cc0be624",
   "metadata": {},
   "outputs": [],
   "source": []
  },
  {
   "cell_type": "code",
   "execution_count": null,
   "id": "0a384fda",
   "metadata": {},
   "outputs": [],
   "source": []
  },
  {
   "cell_type": "code",
   "execution_count": 20,
   "id": "1835bf4d",
   "metadata": {},
   "outputs": [],
   "source": [
    "#Cycle through all points and determine reactions\n",
    "PL_record = np.empty([0, 3])\n",
    "if(nPL>0):\n",
    "    \n",
    "    for n, p in enumerate(pointLoads):\n",
    "        va, vb, ha = reactions_PL(n)\n",
    "        PL_record = np.append(PL_record, [np.array([va, ha, vb])], axis=0) #store reaction for each pointload\n",
    "        \n",
    "        #add reactions to record \n",
    "        reactions[0] = reactions[0] + va\n",
    "        reactions[1] = reactions[1] + ha\n",
    "        reactions[2] = reactions[2] + vb\n",
    "        "
   ]
  },
  {
   "cell_type": "code",
   "execution_count": 21,
   "id": "aae53ac3",
   "metadata": {},
   "outputs": [
    {
     "name": "stdout",
     "output_type": "stream",
     "text": [
      "verticaal A =63.0\n",
      "verticaal B =27.0\n",
      "Horizontal A =0.0\n"
     ]
    }
   ],
   "source": [
    "print(\"verticaal A ={one}\".format(one = round(reactions[0], 2)))\n",
    "print(\"verticaal B ={two}\".format(two = round(reactions[2], 2)))\n",
    "print(\"Horizontal A ={three}\".format(three = round(reactions[1], 2)))"
   ]
  },
  {
   "cell_type": "code",
   "execution_count": null,
   "id": "9976bc26",
   "metadata": {},
   "outputs": [],
   "source": []
  },
  {
   "cell_type": "code",
   "execution_count": null,
   "id": "27b6ee3d",
   "metadata": {},
   "outputs": [],
   "source": []
  },
  {
   "cell_type": "code",
   "execution_count": null,
   "id": "432cde10",
   "metadata": {},
   "outputs": [],
   "source": []
  }
 ],
 "metadata": {
  "kernelspec": {
   "display_name": "Python 3 (ipykernel)",
   "language": "python",
   "name": "python3"
  },
  "language_info": {
   "codemirror_mode": {
    "name": "ipython",
    "version": 3
   },
   "file_extension": ".py",
   "mimetype": "text/x-python",
   "name": "python",
   "nbconvert_exporter": "python",
   "pygments_lexer": "ipython3",
   "version": "3.11.3"
  }
 },
 "nbformat": 4,
 "nbformat_minor": 5
}
